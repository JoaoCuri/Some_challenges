{
  "nbformat": 4,
  "nbformat_minor": 0,
  "metadata": {
    "colab": {
      "name": "Que_numero_estou_Pensando.ipynb",
      "provenance": [],
      "authorship_tag": "ABX9TyOkksdZ5GOgbY/kqk2NmuSa",
      "include_colab_link": true
    },
    "kernelspec": {
      "name": "python3",
      "display_name": "Python 3"
    },
    "language_info": {
      "name": "python"
    }
  },
  "cells": [
    {
      "cell_type": "markdown",
      "metadata": {
        "id": "view-in-github",
        "colab_type": "text"
      },
      "source": [
        "<a href=\"https://colab.research.google.com/github/JoaoCuri/Some_challenges/blob/main/Que_numero_estou_Pensando.ipynb\" target=\"_parent\"><img src=\"https://colab.research.google.com/assets/colab-badge.svg\" alt=\"Open In Colab\"/></a>"
      ]
    },
    {
      "cell_type": "code",
      "metadata": {
        "colab": {
          "base_uri": "https://localhost:8080/"
        },
        "id": "3nDPtVl2whYq",
        "outputId": "1f5525a5-b9d9-4006-8410-ec3ef787a61f"
      },
      "source": [
        "from random import randint\n",
        "\n",
        "logo=\"\"\"                      _   _                                  _                                                       \n",
        "   __ _ _   _  ___  ___ ___  | |_| |__   ___   _ __  _   _ _ __ ___ | |__   ___ _ __ \n",
        "  / _` | | | |/ _ \\/ __/ __| | __| '_ \\ / _ \\ | '_ \\| | | | '_ ` _ \\| '_ \\ / _ \\ '__|\n",
        " | (_| | |_| |  __/\\__ \\__ \\ | |_| | | |  __/ | | | | |_| | | | | | | |_) |  __/ |   \n",
        "  \\__, |\\__,_|\\___||___/___/  \\__|_| |_|\\___| |_| |_|\\__,_|_| |_| |_|_.__/ \\___|_|   \n",
        "   __/ |                                                                             \n",
        "  |___/                                                                              \n",
        "\"\"\"\n",
        "print(logo)\n",
        "EASY_LEVEL_TURNS=10\n",
        "HARD_LEVEL_TURNS=5\n",
        "def game():\n",
        "  def check_answer(guess,answer,turns):\n",
        "    if guess > answer:\n",
        "      print(\"too hight\")\n",
        "      return turns-1\n",
        "    elif guess < answer:\n",
        "      print(\"too low\")\n",
        "      return turns-1\n",
        "    else:\n",
        "      print(f\"you got it. The answer is {answer} \")\n",
        "\n",
        "  def set_difficulty():\n",
        "    level=input(\"choose a difficulty 'easy' or 'hard': \")\n",
        "    if level == \"easy\":\n",
        "      return EASY_LEVEL_TURNS\n",
        "    else:\n",
        "      return HARD_LEVEL_TURNS\n",
        "\n",
        "  print(\"welcome to the number guessing game\")\n",
        "  print(\"I thinking of a number between 1 and 100\")\n",
        "  answer=randint(1,100)\n",
        "  #print(f\"pssst,the correct aswer is {answer}\")\n",
        "\n",
        "  turns=set_difficulty()\n",
        "  \n",
        "\n",
        "  guess=0\n",
        "  while guess!=answer:\n",
        "    print(f\"You have {turns} attemps remaining to guess the number\")\n",
        "    guess=int(input(\"make a guess: \"))\n",
        "    turns=check_answer(guess,answer,turns)\n",
        "    if turns == 0:\n",
        "      print(\"you lose\")\n",
        "      return\n",
        "\n",
        "game()"
      ],
      "execution_count": 1,
      "outputs": [
        {
          "output_type": "stream",
          "text": [
            "                      _   _                                  _                                                       \n",
            "   __ _ _   _  ___  ___ ___  | |_| |__   ___   _ __  _   _ _ __ ___ | |__   ___ _ __ \n",
            "  / _` | | | |/ _ \\/ __/ __| | __| '_ \\ / _ \\ | '_ \\| | | | '_ ` _ \\| '_ \\ / _ \\ '__|\n",
            " | (_| | |_| |  __/\\__ \\__ \\ | |_| | | |  __/ | | | | |_| | | | | | | |_) |  __/ |   \n",
            "  \\__, |\\__,_|\\___||___/___/  \\__|_| |_|\\___| |_| |_|\\__,_|_| |_| |_|_.__/ \\___|_|   \n",
            "   __/ |                                                                             \n",
            "  |___/                                                                              \n",
            "\n",
            "welcome to the number guessing game\n",
            "I thinking of a number between 1 and 100\n",
            "choose a difficulty 'easy' or 'hard': easy\n",
            "You have 10 attemps remaining to guess the number\n",
            "make a guess: 50\n",
            "too low\n",
            "You have 9 attemps remaining to guess the number\n",
            "make a guess: 70\n",
            "too low\n",
            "You have 8 attemps remaining to guess the number\n",
            "make a guess: 90\n",
            "you got it. The answer is 90 \n"
          ],
          "name": "stdout"
        }
      ]
    }
  ]
}