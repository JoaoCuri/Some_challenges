{
  "nbformat": 4,
  "nbformat_minor": 0,
  "metadata": {
    "colab": {
      "name": "pedra ,papel e tesoura.ipynb",
      "provenance": [],
      "authorship_tag": "ABX9TyPru07kRPQjhCUZ5JuHeXmz",
      "include_colab_link": true
    },
    "kernelspec": {
      "name": "python3",
      "display_name": "Python 3"
    }
  },
  "cells": [
    {
      "cell_type": "markdown",
      "metadata": {
        "id": "view-in-github",
        "colab_type": "text"
      },
      "source": [
        "<a href=\"https://colab.research.google.com/github/JoaoCuri/Some_challenges/blob/main/pedra_%2Cpapel_e_tesoura.ipynb\" target=\"_parent\"><img src=\"https://colab.research.google.com/assets/colab-badge.svg\" alt=\"Open In Colab\"/></a>"
      ]
    },
    {
      "cell_type": "code",
      "metadata": {
        "id": "MkOwaFtifxqq",
        "colab": {
          "base_uri": "https://localhost:8080/"
        },
        "outputId": "3022f48c-22e0-4ad8-f9b4-91c4d12df9e5"
      },
      "source": [
        "import random\n",
        "\n",
        "chose=int(input('What do you shoose? (0) for \"Rock\" (1) for \"paper\" or (2) for \"scissors\"'  ))\n",
        "x=chose\n",
        "if x == 0:\n",
        "  print('''\n",
        "    _______\n",
        "---'   ____)\n",
        "      (_____)\n",
        "      (_____)\n",
        "      (____)\n",
        "---.__(___)\n",
        "''')\n",
        "if x == 1:\n",
        "  print('''\n",
        "    _______\n",
        "---'   ____)____\n",
        "          ______)\n",
        "          _______)\n",
        "         _______)\n",
        "---.__________)\n",
        "''')\n",
        "if x==2:\n",
        "  print('''\n",
        "    _______\n",
        "---'   ____)____\n",
        "          ______)\n",
        "       __________)\n",
        "      (____)\n",
        "---.__(___)\n",
        "''')\n",
        "\n",
        "machine=random.randint(0,2)\n",
        "\n",
        "if  machine== 0:\n",
        "  print('''\n",
        "    _______\n",
        "---'   ____)\n",
        "      (_____)\n",
        "      (_____)\n",
        "      (____)\n",
        "---.__(___)\n",
        "''')\n",
        "if machine == 1:\n",
        "  print('''\n",
        "    _______\n",
        "---'   ____)____\n",
        "          ______)\n",
        "          _______)\n",
        "         _______)\n",
        "---.__________)\n",
        "''')\n",
        "if machine==2:\n",
        "  print('''\n",
        "    _______\n",
        "---'   ____)____\n",
        "          ______)\n",
        "       __________)\n",
        "      (____)\n",
        "---.__(___)\n",
        "''')\n",
        "\n",
        "\n",
        "if chose == 0 and machine == 2:\n",
        "  print(\"you won,rock wins scissors\")\n",
        "if machine ==0 and chose == 2:\n",
        "  print(\"you lose,rock wins scissors\")\n",
        "if machine ==1 and chose ==2:\n",
        "  print(\"You won,scissors wins paper\")\n",
        "if chose ==1 and machine ==2:\n",
        "  print(\"you lose,scissors wins paper\")\n",
        "if chose ==0 and machine ==1:\n",
        "  print(\"You lose,paper wins rock\")\n",
        "if chose ==1 and machine ==0:\n",
        "  print(\"you won,paper wins rock\")\n",
        "if chose == machine:\n",
        "  print('draw')"
      ],
      "execution_count": 21,
      "outputs": [
        {
          "output_type": "stream",
          "text": [
            "What do you shoose? (0) for \"Rock\" (1) for \"paper\" or (2) for \"scissors\"0\n",
            "\n",
            "    _______\n",
            "---'   ____)\n",
            "      (_____)\n",
            "      (_____)\n",
            "      (____)\n",
            "---.__(___)\n",
            "\n",
            "\n",
            "    _______\n",
            "---'   ____)____\n",
            "          ______)\n",
            "       __________)\n",
            "      (____)\n",
            "---.__(___)\n",
            "\n",
            "you won,rock wins scissors\n"
          ],
          "name": "stdout"
        }
      ]
    }
  ]
}