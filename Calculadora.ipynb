{
  "nbformat": 4,
  "nbformat_minor": 0,
  "metadata": {
    "colab": {
      "name": "Calculadora.ipynb",
      "provenance": [],
      "authorship_tag": "ABX9TyMphRn7n0SiduVuJrX/9eF3",
      "include_colab_link": true
    },
    "kernelspec": {
      "name": "python3",
      "display_name": "Python 3"
    },
    "language_info": {
      "name": "python"
    }
  },
  "cells": [
    {
      "cell_type": "markdown",
      "metadata": {
        "id": "view-in-github",
        "colab_type": "text"
      },
      "source": [
        "<a href=\"https://colab.research.google.com/github/JoaoCuri/Some_challenges/blob/main/Calculadora.ipynb\" target=\"_parent\"><img src=\"https://colab.research.google.com/assets/colab-badge.svg\" alt=\"Open In Colab\"/></a>"
      ]
    },
    {
      "cell_type": "code",
      "metadata": {
        "id": "f0MARm-iTpGG",
        "colab": {
          "base_uri": "https://localhost:8080/"
        },
        "outputId": "4119741e-6801-45cf-941d-f688d22abc3d"
      },
      "source": [
        "#calculator\n",
        "\n",
        "def add(n1,n2):\n",
        "   return n1+n2\n",
        "\n",
        "def sub(n1,n2):\n",
        "  return n1-n2\n",
        "\n",
        "def mult(n1,n2):\n",
        "  return n1*n2\n",
        "\n",
        "def div(n1,n2):\n",
        "  return n1/n2\n",
        "\n",
        "operation={\n",
        "  \"+\":add,\n",
        "  \"-\":sub,\n",
        "  \"*\":mult,\n",
        "  \"/\":div,\n",
        "  }\n",
        "def calculator():\n",
        "  print(''' \n",
        " __________\n",
        "| ________ |\n",
        "||Python  ||\n",
        "|\"\"\"\"\"\"\"\"\"\"|\n",
        "|[M|#|C][-]|\n",
        "|[7|8|9][+]|\n",
        "|[4|5|6][x]|\n",
        "|[1|2|3][%]|\n",
        "|[.|O|:][=]|\n",
        "\"----------\"''')\n",
        "  num1=float(input(\"What't the first number? \"))\n",
        "\n",
        "  for symbol in operation:\n",
        "    print(symbol)\n",
        "  should_continue=True\n",
        "  while should_continue:\n",
        "    operation_symbol=input(\"pick an other operation \")\n",
        "    num2=float(input(\"What't the next number? \"))\n",
        "    calculation_function=operation[operation_symbol]\n",
        "    answer=calculation_function(num1,num2)\n",
        "\n",
        "    print(f\"{num1}{operation_symbol}{num2}={answer}\")\n",
        "    if input(f\"type 'y' to continue claculate with {answer} or type'n' to exite  \")==\"y\":\n",
        "      num1=answer\n",
        "    else:\n",
        "      should_continue = False\n",
        "      \n",
        "\n",
        "calculator()"
      ],
      "execution_count": 3,
      "outputs": [
        {
          "output_type": "stream",
          "text": [
            " \n",
            " __________\n",
            "| ________ |\n",
            "||Python  ||\n",
            "|\"\"\"\"\"\"\"\"\"\"|\n",
            "|[M|#|C][-]|\n",
            "|[7|8|9][+]|\n",
            "|[4|5|6][x]|\n",
            "|[1|2|3][%]|\n",
            "|[.|O|:][=]|\n",
            "\"----------\"\n",
            "What't the first number? 3\n",
            "+\n",
            "-\n",
            "*\n",
            "/\n",
            "pick an other operation +\n",
            "What't the next number? 5\n",
            "3.0+5.0=8.0\n",
            "type 'y' to continue claculate with 8.0 or type'n' to exite  y\n",
            "pick an other operation *\n",
            "What't the next number? 2\n",
            "8.0*2.0=16.0\n",
            "type 'y' to continue claculate with 16.0 or type'n' to exite  n\n"
          ],
          "name": "stdout"
        }
      ]
    }
  ]
}