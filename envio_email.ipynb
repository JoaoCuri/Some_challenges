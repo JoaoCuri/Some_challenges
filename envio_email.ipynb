{
  "nbformat": 4,
  "nbformat_minor": 0,
  "metadata": {
    "colab": {
      "provenance": [],
      "authorship_tag": "ABX9TyO5ZH2lVbYPsa8Xme/mmyws",
      "include_colab_link": true
    },
    "kernelspec": {
      "name": "python3",
      "display_name": "Python 3"
    },
    "language_info": {
      "name": "python"
    }
  },
  "cells": [
    {
      "cell_type": "markdown",
      "metadata": {
        "id": "view-in-github",
        "colab_type": "text"
      },
      "source": [
        "<a href=\"https://colab.research.google.com/github/JoaoCuri/Some_challenges/blob/main/envio_email.ipynb\" target=\"_parent\"><img src=\"https://colab.research.google.com/assets/colab-badge.svg\" alt=\"Open In Colab\"/></a>"
      ]
    },
    {
      "cell_type": "code",
      "execution_count": null,
      "metadata": {
        "id": "rO21pzAbcpZE"
      },
      "outputs": [],
      "source": [
        "import smtplib\n",
        "\n",
        "my_email='meu_email@gmail.com'\n",
        "senha='sua senha'\n",
        "\n",
        "with smtplib.SMTP('smtp.gmail.com') as conection:\n",
        "  conection.starttls()\n",
        "  conection.login(user=my_email, password=senha)\n",
        "  conection.sendmail(from_addr=my_email,\n",
        "                   to_addrs='outro_email@yahoo.com',\n",
        "                   msg='''Subject:teste\\n\\n... ... ... This is a test ''')\n",
        "  \n",
        "  \n"
      ]
    }
  ]
}