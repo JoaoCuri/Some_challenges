{
  "nbformat": 4,
  "nbformat_minor": 0,
  "metadata": {
    "colab": {
      "name": "Untitled14.ipynb",
      "provenance": [],
      "authorship_tag": "ABX9TyOd9ESRtWuWXOiBYIWxIGnR",
      "include_colab_link": true
    },
    "kernelspec": {
      "name": "python3",
      "display_name": "Python 3"
    },
    "language_info": {
      "name": "python"
    }
  },
  "cells": [
    {
      "cell_type": "markdown",
      "metadata": {
        "id": "view-in-github",
        "colab_type": "text"
      },
      "source": [
        "<a href=\"https://colab.research.google.com/github/JoaoCuri/Some_challenges/blob/main/list_dict_comprehention.ipynb\" target=\"_parent\"><img src=\"https://colab.research.google.com/assets/colab-badge.svg\" alt=\"Open In Colab\"/></a>"
      ]
    },
    {
      "cell_type": "markdown",
      "source": [
        "**List and dictionary comprehention**"
      ],
      "metadata": {
        "id": "c8D3QjqyUMZq"
      }
    },
    {
      "cell_type": "code",
      "execution_count": 1,
      "metadata": {
        "colab": {
          "base_uri": "https://localhost:8080/"
        },
        "id": "njnZYTljULf0",
        "outputId": "fbd167fb-b3a6-4768-f380-43f133d32d73"
      },
      "outputs": [
        {
          "output_type": "stream",
          "name": "stdout",
          "text": [
            "[2, 3, 4]\n"
          ]
        }
      ],
      "source": [
        "numbers=[1,2,3]\n",
        "new_list=[]\n",
        "for n in numbers:\n",
        "  ad=n+1\n",
        "  new_list.append(ad)\n",
        "\n",
        "print(new_list)"
      ]
    },
    {
      "cell_type": "code",
      "source": [
        "numbers=[1,2,3]\n",
        "new_list=[n+1 for n in numbers]\n",
        "print(new_list)"
      ],
      "metadata": {
        "colab": {
          "base_uri": "https://localhost:8080/"
        },
        "id": "l_bKR0vLUdmO",
        "outputId": "bd93cf97-8bf3-4f1e-aaef-cb9d26f29097"
      },
      "execution_count": 2,
      "outputs": [
        {
          "output_type": "stream",
          "name": "stdout",
          "text": [
            "[2, 3, 4]\n"
          ]
        }
      ]
    },
    {
      "cell_type": "code",
      "source": [
        "numbers=[1,2,3]\n",
        "new_list=[n+1 for n in numbers]\n",
        "print(new_list)"
      ],
      "metadata": {
        "colab": {
          "base_uri": "https://localhost:8080/"
        },
        "id": "io7NZKeNUheQ",
        "outputId": "d857f3f3-b1b2-46e4-8ef5-81a116117f15"
      },
      "execution_count": 3,
      "outputs": [
        {
          "output_type": "stream",
          "name": "stdout",
          "text": [
            "[2, 3, 4]\n"
          ]
        }
      ]
    },
    {
      "cell_type": "code",
      "source": [
        "nomes=[\"Alex\",\"Beth\",\"Caroline\",\"Dave\",\"Eleonor\",\"Freddie\"]"
      ],
      "metadata": {
        "id": "5aUfayTnUjuP"
      },
      "execution_count": 4,
      "outputs": []
    },
    {
      "cell_type": "code",
      "source": [
        "short_name=[n for n in nomes if len(n)<5 ]\n",
        "short_name"
      ],
      "metadata": {
        "colab": {
          "base_uri": "https://localhost:8080/"
        },
        "id": "-Sjc3F8dUmGZ",
        "outputId": "7aabe77f-b518-46cc-cecf-7542ab0744c0"
      },
      "execution_count": 5,
      "outputs": [
        {
          "output_type": "execute_result",
          "data": {
            "text/plain": [
              "['Alex', 'Beth', 'Dave']"
            ]
          },
          "metadata": {},
          "execution_count": 5
        }
      ]
    },
    {
      "cell_type": "code",
      "source": [
        "al_caps=[n.upper() for n in nomes if len(n)>5]\n",
        "al_caps"
      ],
      "metadata": {
        "colab": {
          "base_uri": "https://localhost:8080/"
        },
        "id": "CoO8MUtyUoNZ",
        "outputId": "a53c8a37-e6c8-4d40-903c-cd88f5b47126"
      },
      "execution_count": 6,
      "outputs": [
        {
          "output_type": "execute_result",
          "data": {
            "text/plain": [
              "['CAROLINE', 'ELEONOR', 'FREDDIE']"
            ]
          },
          "metadata": {},
          "execution_count": 6
        }
      ]
    },
    {
      "cell_type": "code",
      "source": [
        "lista=[1, 1, 4, 9, 25, 64, 169, 441, 1156, 3025]"
      ],
      "metadata": {
        "id": "JWyqMMVrUqfD"
      },
      "execution_count": 7,
      "outputs": []
    },
    {
      "cell_type": "code",
      "source": [
        "new_list=[n*n for n in lista]\n",
        "new_list"
      ],
      "metadata": {
        "colab": {
          "base_uri": "https://localhost:8080/"
        },
        "id": "IXbKkpRGUs2o",
        "outputId": "594e2912-f226-4a2c-cf39-d8ae02a5f70a"
      },
      "execution_count": 8,
      "outputs": [
        {
          "output_type": "execute_result",
          "data": {
            "text/plain": [
              "[1, 1, 16, 81, 625, 4096, 28561, 194481, 1336336, 9150625]"
            ]
          },
          "metadata": {},
          "execution_count": 8
        }
      ]
    },
    {
      "cell_type": "code",
      "source": [
        "numbers = [1, 1, 2, 3, 5, 8, 13, 21, 34, 55]"
      ],
      "metadata": {
        "id": "gCSTdnxIUvqC"
      },
      "execution_count": 9,
      "outputs": []
    },
    {
      "cell_type": "code",
      "source": [
        "new_list=[ n for n in numbers if n%2==0]\n",
        "new_list"
      ],
      "metadata": {
        "colab": {
          "base_uri": "https://localhost:8080/"
        },
        "id": "7CcrfA5cUxnp",
        "outputId": "4df2a0d8-fdf1-492e-8caa-66c4325500a7"
      },
      "execution_count": 10,
      "outputs": [
        {
          "output_type": "execute_result",
          "data": {
            "text/plain": [
              "[2, 8, 34]"
            ]
          },
          "metadata": {},
          "execution_count": 10
        }
      ]
    },
    {
      "cell_type": "code",
      "source": [
        "import random\n",
        "\n",
        "names=['Alex','Beth','Caroline','Dave','Eleonor','Freddie']\n",
        "\n",
        "students_score={student:random.randint(1, 100) for student in names}"
      ],
      "metadata": {
        "id": "yqTdHNGzUz3R"
      },
      "execution_count": 11,
      "outputs": []
    },
    {
      "cell_type": "code",
      "source": [
        "students_score"
      ],
      "metadata": {
        "colab": {
          "base_uri": "https://localhost:8080/"
        },
        "id": "F8qyBTT2U2V5",
        "outputId": "ecbce555-f924-4d1b-d92f-72d1c7b6f498"
      },
      "execution_count": 12,
      "outputs": [
        {
          "output_type": "execute_result",
          "data": {
            "text/plain": [
              "{'Alex': 71,\n",
              " 'Beth': 82,\n",
              " 'Caroline': 54,\n",
              " 'Dave': 69,\n",
              " 'Eleonor': 79,\n",
              " 'Freddie': 28}"
            ]
          },
          "metadata": {},
          "execution_count": 12
        }
      ]
    },
    {
      "cell_type": "markdown",
      "source": [
        "Dictionary"
      ],
      "metadata": {
        "id": "cqoGtIEVU6AT"
      }
    },
    {
      "cell_type": "code",
      "source": [
        "sentence = \"What is the Airspeed Velocity of an Unladen Swallow?\""
      ],
      "metadata": {
        "id": "2-hgBue1U5is"
      },
      "execution_count": 13,
      "outputs": []
    },
    {
      "cell_type": "code",
      "source": [
        "result ={word:len(word) for word in sentence.split(\" \") }\n",
        "result"
      ],
      "metadata": {
        "colab": {
          "base_uri": "https://localhost:8080/"
        },
        "id": "hLDP4bH0U-Ax",
        "outputId": "5ba24eab-dfac-45ba-a8cb-2bc7b59507f8"
      },
      "execution_count": 14,
      "outputs": [
        {
          "output_type": "execute_result",
          "data": {
            "text/plain": [
              "{'Airspeed': 8,\n",
              " 'Swallow?': 8,\n",
              " 'Unladen': 7,\n",
              " 'Velocity': 8,\n",
              " 'What': 4,\n",
              " 'an': 2,\n",
              " 'is': 2,\n",
              " 'of': 2,\n",
              " 'the': 3}"
            ]
          },
          "metadata": {},
          "execution_count": 14
        }
      ]
    },
    {
      "cell_type": "code",
      "source": [
        "weather_c = {\n",
        "    \"Monday\": 12,\n",
        "    \"Tuesday\": 14,\n",
        "    \"Wednesday\": 15,\n",
        "    \"Thursday\": 14,\n",
        "    \"Friday\": 21,\n",
        "    \"Saturday\": 22,\n",
        "    \"Sunday\": 24,\n",
        "}"
      ],
      "metadata": {
        "id": "x-JB5U_tVBSA"
      },
      "execution_count": 15,
      "outputs": []
    },
    {
      "cell_type": "code",
      "source": [
        "weather_f = {day:(weather_c[day]*9/5)+32 for day in weather_c }\n",
        "print(weather_f)"
      ],
      "metadata": {
        "colab": {
          "base_uri": "https://localhost:8080/"
        },
        "id": "D0wHyv5kVDOI",
        "outputId": "6c8ed8df-528f-48ed-df93-6b5c5733ff00"
      },
      "execution_count": 16,
      "outputs": [
        {
          "output_type": "stream",
          "name": "stdout",
          "text": [
            "{'Monday': 53.6, 'Tuesday': 57.2, 'Wednesday': 59.0, 'Thursday': 57.2, 'Friday': 69.8, 'Saturday': 71.6, 'Sunday': 75.2}\n"
          ]
        }
      ]
    },
    {
      "cell_type": "markdown",
      "source": [
        "Outro jeito"
      ],
      "metadata": {
        "id": "yAF7HUa3VJQp"
      }
    },
    {
      "cell_type": "code",
      "source": [
        "weather_f = {day:(weather_c[day]*9/5)+32 for (day,temp) in weather_c.items() }\n",
        "weather_f"
      ],
      "metadata": {
        "colab": {
          "base_uri": "https://localhost:8080/"
        },
        "id": "fBi91oh3VH_x",
        "outputId": "db895c29-ea58-40ce-861e-1320e01873f9"
      },
      "execution_count": 17,
      "outputs": [
        {
          "output_type": "execute_result",
          "data": {
            "text/plain": [
              "{'Friday': 69.8,\n",
              " 'Monday': 53.6,\n",
              " 'Saturday': 71.6,\n",
              " 'Sunday': 75.2,\n",
              " 'Thursday': 57.2,\n",
              " 'Tuesday': 57.2,\n",
              " 'Wednesday': 59.0}"
            ]
          },
          "metadata": {},
          "execution_count": 17
        }
      ]
    },
    {
      "cell_type": "code",
      "source": [
        "student_dict={\n",
        "    'students':['Angela','James','Lilly'],\n",
        "    'score':[56,76,98]\n",
        "}"
      ],
      "metadata": {
        "id": "x2lvE6fAVLPK"
      },
      "execution_count": 18,
      "outputs": []
    },
    {
      "cell_type": "code",
      "source": [
        "import pandas as pd\n",
        "\n",
        "DF=pd.DataFrame(student_dict)\n",
        "DF"
      ],
      "metadata": {
        "colab": {
          "base_uri": "https://localhost:8080/",
          "height": 143
        },
        "id": "cUlIAr5SVP65",
        "outputId": "9fb40da4-27f2-4761-c02d-6ae29bd7210a"
      },
      "execution_count": 19,
      "outputs": [
        {
          "output_type": "execute_result",
          "data": {
            "text/plain": [
              "  students  score\n",
              "0   Angela     56\n",
              "1    James     76\n",
              "2    Lilly     98"
            ],
            "text/html": [
              "\n",
              "  <div id=\"df-921c95f5-7a2f-4e29-8eac-4e6491b66643\">\n",
              "    <div class=\"colab-df-container\">\n",
              "      <div>\n",
              "<style scoped>\n",
              "    .dataframe tbody tr th:only-of-type {\n",
              "        vertical-align: middle;\n",
              "    }\n",
              "\n",
              "    .dataframe tbody tr th {\n",
              "        vertical-align: top;\n",
              "    }\n",
              "\n",
              "    .dataframe thead th {\n",
              "        text-align: right;\n",
              "    }\n",
              "</style>\n",
              "<table border=\"1\" class=\"dataframe\">\n",
              "  <thead>\n",
              "    <tr style=\"text-align: right;\">\n",
              "      <th></th>\n",
              "      <th>students</th>\n",
              "      <th>score</th>\n",
              "    </tr>\n",
              "  </thead>\n",
              "  <tbody>\n",
              "    <tr>\n",
              "      <th>0</th>\n",
              "      <td>Angela</td>\n",
              "      <td>56</td>\n",
              "    </tr>\n",
              "    <tr>\n",
              "      <th>1</th>\n",
              "      <td>James</td>\n",
              "      <td>76</td>\n",
              "    </tr>\n",
              "    <tr>\n",
              "      <th>2</th>\n",
              "      <td>Lilly</td>\n",
              "      <td>98</td>\n",
              "    </tr>\n",
              "  </tbody>\n",
              "</table>\n",
              "</div>\n",
              "      <button class=\"colab-df-convert\" onclick=\"convertToInteractive('df-921c95f5-7a2f-4e29-8eac-4e6491b66643')\"\n",
              "              title=\"Convert this dataframe to an interactive table.\"\n",
              "              style=\"display:none;\">\n",
              "        \n",
              "  <svg xmlns=\"http://www.w3.org/2000/svg\" height=\"24px\"viewBox=\"0 0 24 24\"\n",
              "       width=\"24px\">\n",
              "    <path d=\"M0 0h24v24H0V0z\" fill=\"none\"/>\n",
              "    <path d=\"M18.56 5.44l.94 2.06.94-2.06 2.06-.94-2.06-.94-.94-2.06-.94 2.06-2.06.94zm-11 1L8.5 8.5l.94-2.06 2.06-.94-2.06-.94L8.5 2.5l-.94 2.06-2.06.94zm10 10l.94 2.06.94-2.06 2.06-.94-2.06-.94-.94-2.06-.94 2.06-2.06.94z\"/><path d=\"M17.41 7.96l-1.37-1.37c-.4-.4-.92-.59-1.43-.59-.52 0-1.04.2-1.43.59L10.3 9.45l-7.72 7.72c-.78.78-.78 2.05 0 2.83L4 21.41c.39.39.9.59 1.41.59.51 0 1.02-.2 1.41-.59l7.78-7.78 2.81-2.81c.8-.78.8-2.07 0-2.86zM5.41 20L4 18.59l7.72-7.72 1.47 1.35L5.41 20z\"/>\n",
              "  </svg>\n",
              "      </button>\n",
              "      \n",
              "  <style>\n",
              "    .colab-df-container {\n",
              "      display:flex;\n",
              "      flex-wrap:wrap;\n",
              "      gap: 12px;\n",
              "    }\n",
              "\n",
              "    .colab-df-convert {\n",
              "      background-color: #E8F0FE;\n",
              "      border: none;\n",
              "      border-radius: 50%;\n",
              "      cursor: pointer;\n",
              "      display: none;\n",
              "      fill: #1967D2;\n",
              "      height: 32px;\n",
              "      padding: 0 0 0 0;\n",
              "      width: 32px;\n",
              "    }\n",
              "\n",
              "    .colab-df-convert:hover {\n",
              "      background-color: #E2EBFA;\n",
              "      box-shadow: 0px 1px 2px rgba(60, 64, 67, 0.3), 0px 1px 3px 1px rgba(60, 64, 67, 0.15);\n",
              "      fill: #174EA6;\n",
              "    }\n",
              "\n",
              "    [theme=dark] .colab-df-convert {\n",
              "      background-color: #3B4455;\n",
              "      fill: #D2E3FC;\n",
              "    }\n",
              "\n",
              "    [theme=dark] .colab-df-convert:hover {\n",
              "      background-color: #434B5C;\n",
              "      box-shadow: 0px 1px 3px 1px rgba(0, 0, 0, 0.15);\n",
              "      filter: drop-shadow(0px 1px 2px rgba(0, 0, 0, 0.3));\n",
              "      fill: #FFFFFF;\n",
              "    }\n",
              "  </style>\n",
              "\n",
              "      <script>\n",
              "        const buttonEl =\n",
              "          document.querySelector('#df-921c95f5-7a2f-4e29-8eac-4e6491b66643 button.colab-df-convert');\n",
              "        buttonEl.style.display =\n",
              "          google.colab.kernel.accessAllowed ? 'block' : 'none';\n",
              "\n",
              "        async function convertToInteractive(key) {\n",
              "          const element = document.querySelector('#df-921c95f5-7a2f-4e29-8eac-4e6491b66643');\n",
              "          const dataTable =\n",
              "            await google.colab.kernel.invokeFunction('convertToInteractive',\n",
              "                                                     [key], {});\n",
              "          if (!dataTable) return;\n",
              "\n",
              "          const docLinkHtml = 'Like what you see? Visit the ' +\n",
              "            '<a target=\"_blank\" href=https://colab.research.google.com/notebooks/data_table.ipynb>data table notebook</a>'\n",
              "            + ' to learn more about interactive tables.';\n",
              "          element.innerHTML = '';\n",
              "          dataTable['output_type'] = 'display_data';\n",
              "          await google.colab.output.renderOutput(dataTable, element);\n",
              "          const docLink = document.createElement('div');\n",
              "          docLink.innerHTML = docLinkHtml;\n",
              "          element.appendChild(docLink);\n",
              "        }\n",
              "      </script>\n",
              "    </div>\n",
              "  </div>\n",
              "  "
            ]
          },
          "metadata": {},
          "execution_count": 19
        }
      ]
    },
    {
      "cell_type": "code",
      "source": [
        "for (key,value) in DF.items():\n",
        "  print(value)"
      ],
      "metadata": {
        "colab": {
          "base_uri": "https://localhost:8080/"
        },
        "id": "8YFXoH_LVSQJ",
        "outputId": "20cd53f4-6ea2-4e47-a856-282aa76b63b7"
      },
      "execution_count": 20,
      "outputs": [
        {
          "output_type": "stream",
          "name": "stdout",
          "text": [
            "0    Angela\n",
            "1     James\n",
            "2     Lilly\n",
            "Name: students, dtype: object\n",
            "0    56\n",
            "1    76\n",
            "2    98\n",
            "Name: score, dtype: int64\n"
          ]
        }
      ]
    },
    {
      "cell_type": "code",
      "source": [
        "for (index,row)in DF.iterrows():\n",
        "  print(row)"
      ],
      "metadata": {
        "colab": {
          "base_uri": "https://localhost:8080/"
        },
        "id": "GXx1LBTFVVcQ",
        "outputId": "7e58c7b9-f621-4d1b-9358-ca44d11d5792"
      },
      "execution_count": 21,
      "outputs": [
        {
          "output_type": "stream",
          "name": "stdout",
          "text": [
            "students    Angela\n",
            "score           56\n",
            "Name: 0, dtype: object\n",
            "students    James\n",
            "score          76\n",
            "Name: 1, dtype: object\n",
            "students    Lilly\n",
            "score          98\n",
            "Name: 2, dtype: object\n"
          ]
        }
      ]
    },
    {
      "cell_type": "code",
      "source": [
        "for (index,row)in DF.iterrows():\n",
        "  if row.students == \"Angela\":\n",
        "    print(row.score)"
      ],
      "metadata": {
        "colab": {
          "base_uri": "https://localhost:8080/"
        },
        "id": "w7gSHjnVVXwQ",
        "outputId": "8f2e382e-791e-46a8-dea8-7e2db63defed"
      },
      "execution_count": 22,
      "outputs": [
        {
          "output_type": "stream",
          "name": "stdout",
          "text": [
            "56\n"
          ]
        }
      ]
    }
  ]
}