{
  "nbformat": 4,
  "nbformat_minor": 0,
  "metadata": {
    "colab": {
      "name": "Coffe_machine.ipynb",
      "provenance": [],
      "authorship_tag": "ABX9TyNVVxdhDH1CJN9shQFyDBdH",
      "include_colab_link": true
    },
    "kernelspec": {
      "name": "python3",
      "display_name": "Python 3"
    },
    "language_info": {
      "name": "python"
    }
  },
  "cells": [
    {
      "cell_type": "markdown",
      "metadata": {
        "id": "view-in-github",
        "colab_type": "text"
      },
      "source": [
        "<a href=\"https://colab.research.google.com/github/JoaoCuri/Some_challenges/blob/main/Coffe_machine.ipynb\" target=\"_parent\"><img src=\"https://colab.research.google.com/assets/colab-badge.svg\" alt=\"Open In Colab\"/></a>"
      ]
    },
    {
      "cell_type": "code",
      "metadata": {
        "colab": {
          "base_uri": "https://localhost:8080/"
        },
        "id": "jeJ7xwZZH19Q",
        "outputId": "d9893fec-ac3a-4ce9-cf2f-5b62466c7eaa"
      },
      "source": [
        "MENU = {\n",
        "    \"espresso\": {\n",
        "        \"ingredients\": {\n",
        "            \"water\": 50,\n",
        "            \"coffee\": 18,\n",
        "        },\n",
        "        \"cost\": 1.5,\n",
        "    },\n",
        "    \"latte\": {\n",
        "        \"ingredients\": {\n",
        "            \"water\": 200,\n",
        "            \"milk\": 150,\n",
        "            \"coffee\": 24,\n",
        "        },\n",
        "        \"cost\": 2.5,\n",
        "    },\n",
        "    \"cappuccino\": {\n",
        "        \"ingredients\": {\n",
        "            \"water\": 250,\n",
        "            \"milk\": 100,\n",
        "            \"coffee\": 24,\n",
        "        },\n",
        "        \"cost\": 3.0,\n",
        "    }\n",
        "}\n",
        "\n",
        "profit=0\n",
        "resources = {\n",
        "    \"water\": 300,\n",
        "    \"milk\": 200,\n",
        "    \"coffee\": 100,\n",
        "}\n",
        "def is_resorces_suff(order_ingerd):\n",
        "  for item in order_ingerd:\n",
        "    if order_ingerd[item]>=resources[item]:\n",
        "      print(f\"Sorry there is not enough {item}\")\n",
        "      return False\n",
        "  return True\n",
        "\n",
        "def process_coins():\n",
        "  \"\"\"return the total of coins iserted\"\"\"\n",
        "  print(\"please insert coins\")\n",
        "  total=int(input(\"how many quartes?\"))*0.25\n",
        "  total+=int(input(\"how many dines?\"))*0.1\n",
        "  total+=int(input(\"how many nickles?\"))*0.05\n",
        "  total+=int(input(\"how many pennies?\"))*0.01\n",
        "  return total\n",
        "\n",
        "def transaction_successful(money_received,drink_cost):\n",
        "  \"\"\"return true when the payment is accepted or false when not accepted\"\"\"\n",
        "  if money_received>= drink_cost:\n",
        "    change = round(money_received-drink_cost,2)\n",
        "    print(f\"Here is ${change} in change.\")\n",
        "    global profit\n",
        "    profit+=drink_cost\n",
        "    return True\n",
        "  else:\n",
        "    print(\"Sorry that's not enough money,money refuted\")\n",
        "    return False\n",
        "\n",
        "def make_coffe(drink_name,order_ingred):\n",
        "  \"\"\"deduct resorcers\"\"\"\n",
        "  for item in order_ingred:\n",
        "    resources[item]-=order_ingred[item]\n",
        "  print(f\"Here is your drink {drink_name}\")\n",
        "\n",
        "is_on=True\n",
        "while is_on:\n",
        "  choice=input(\"what would you like? ('espresso','latte' or 'cappuccino')\")\n",
        "  if choice==\"off\":\n",
        "    is_on=False\n",
        "  elif choice==\"report\":\n",
        "    print(f\"Water: {resources['water']}ml\")\n",
        "    print(f\"Milk: {resources['milk']}ml \")\n",
        "    print(f\"Coffee: {resources['coffee']}g\")\n",
        "    print(f\"Money: ${profit}\")\n",
        "  else:\n",
        "    drink=MENU[choice]    \n",
        "    if is_resorces_suff(drink[\"ingredients\"]):\n",
        "      payment=process_coins()\n",
        "      transaction_successful(payment,drink[\"cost\"])\n",
        "      make_coffe(choice,drink[\"ingredients\"])"
      ],
      "execution_count": 2,
      "outputs": [
        {
          "output_type": "stream",
          "text": [
            "what would you like? ('espresso','latte' or 'cappuccino')latte\n",
            "please insert coins\n",
            "how many quartes?12\n",
            "how many dines?12\n",
            "how many nickles?12\n",
            "how many pennies?12\n",
            "Here is $2.42 in change.\n",
            "Here is your drink latte\n",
            "what would you like? ('espresso','latte' or 'cappuccino')report\n",
            "Water: 100ml\n",
            "Milk: 50ml \n",
            "Coffee: 76g\n",
            "Money: $2.5\n",
            "what would you like? ('espresso','latte' or 'cappuccino')latte\n",
            "Sorry there is not enough water\n",
            "what would you like? ('espresso','latte' or 'cappuccino')off\n"
          ],
          "name": "stdout"
        }
      ]
    }
  ]
}