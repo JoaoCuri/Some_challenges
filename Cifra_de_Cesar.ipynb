{
  "nbformat": 4,
  "nbformat_minor": 0,
  "metadata": {
    "colab": {
      "name": "Cifra_de_Cesar.ipynb",
      "provenance": [],
      "authorship_tag": "ABX9TyMRtPON/s5WuuJd10mOzO9/",
      "include_colab_link": true
    },
    "kernelspec": {
      "name": "python3",
      "display_name": "Python 3"
    },
    "language_info": {
      "name": "python"
    }
  },
  "cells": [
    {
      "cell_type": "markdown",
      "metadata": {
        "id": "view-in-github",
        "colab_type": "text"
      },
      "source": [
        "<a href=\"https://colab.research.google.com/github/JoaoCuri/Some_challenges/blob/main/Cifra_de_Cesar.ipynb\" target=\"_parent\"><img src=\"https://colab.research.google.com/assets/colab-badge.svg\" alt=\"Open In Colab\"/></a>"
      ]
    },
    {
      "cell_type": "code",
      "metadata": {
        "colab": {
          "base_uri": "https://localhost:8080/"
        },
        "id": "jP19Z443injt",
        "outputId": "a0faa6d5-4722-4012-8fd2-b66fe678e70a"
      },
      "source": [
        "alphabet = ['a', 'b', 'c', 'd', 'e', 'f', 'g', 'h', 'i', 'j', 'k', 'l', 'm', 'n', 'o', 'p', 'q', 'r', 's', 't', 'u', 'v', 'w', 'x', 'y', 'z',' ',\n",
        "            'a', 'b', 'c', 'd', 'e', 'f', 'g', 'h', 'i', 'j', 'k', 'l', 'm', 'n', 'o', 'p', 'q', 'r', 's', 't', 'u', 'v', 'w', 'x', 'y', 'z',' ']\n",
        "\n",
        "direction = input(\"Type 'encode' to encrypt, type 'decode' to decrypt:\\n\")\n",
        "text = input(\"Type your message:\\n\").lower()\n",
        "shift = int(input(\"Type the shift number:\\n\"))\n",
        "\n",
        "def encrypt(plain_text,shift_amount):\n",
        "  cipher_text=\"\"\n",
        "  for letter in plain_text:\n",
        "    position=alphabet.index(letter)\n",
        "    new_position=position + shift_amount\n",
        "    new_letter=alphabet[new_position]\n",
        "    cipher_text+=new_letter\n",
        "  print(f\"the encode text is {cipher_text}\")\n",
        "\n",
        "def decrypt(cipher_text,shift_amount):\n",
        "  plain_text=\"\"\n",
        "  for letter in cipher_text:\n",
        "    position=alphabet.index(letter)\n",
        "    new_position=position - shift_amount\n",
        "    new_letter=alphabet[new_position]\n",
        "    plain_text+=new_letter\n",
        "  print(f\"the descripty text is {plain_text}\")\n",
        "\n",
        "if direction == \"encode\":\n",
        "  encrypt(plain_text=text,shift_amount=shift)\n",
        "elif direction == \"decode\":\n",
        "  decrypt(cipher_text=text,shift_amount=shift)"
      ],
      "execution_count": 2,
      "outputs": [
        {
          "output_type": "stream",
          "text": [
            "Type 'encode' to encrypt, type 'decode' to decrypt:\n",
            "decode\n",
            "Type your message:\n",
            "qnuuxiex um\n",
            "Type the shift number:\n",
            "9\n",
            "the descripty text is hello world\n"
          ],
          "name": "stdout"
        }
      ]
    }
  ]
}